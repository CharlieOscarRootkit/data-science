{
 "cells": [
  {
   "cell_type": "code",
   "execution_count": 1,
   "id": "b633b649-3063-446e-aaca-0658e9270be5",
   "metadata": {},
   "outputs": [],
   "source": [
    "import pandas as pd\n",
    "import numpy as np"
   ]
  },
  {
   "cell_type": "code",
   "execution_count": 9,
   "id": "80936742-fefc-4658-8a64-066b7f965f8c",
   "metadata": {},
   "outputs": [
    {
     "data": {
      "text/html": [
       "<div>\n",
       "<style scoped>\n",
       "    .dataframe tbody tr th:only-of-type {\n",
       "        vertical-align: middle;\n",
       "    }\n",
       "\n",
       "    .dataframe tbody tr th {\n",
       "        vertical-align: top;\n",
       "    }\n",
       "\n",
       "    .dataframe thead th {\n",
       "        text-align: right;\n",
       "    }\n",
       "</style>\n",
       "<table border=\"1\" class=\"dataframe\">\n",
       "  <thead>\n",
       "    <tr style=\"text-align: right;\">\n",
       "      <th></th>\n",
       "      <th>Age</th>\n",
       "      <th>Point</th>\n",
       "      <th>Height/m</th>\n",
       "    </tr>\n",
       "  </thead>\n",
       "  <tbody>\n",
       "    <tr>\n",
       "      <th>0</th>\n",
       "      <td>23.0</td>\n",
       "      <td>23.0</td>\n",
       "      <td>1.30</td>\n",
       "    </tr>\n",
       "    <tr>\n",
       "      <th>1</th>\n",
       "      <td>NaN</td>\n",
       "      <td>67.0</td>\n",
       "      <td>NaN</td>\n",
       "    </tr>\n",
       "    <tr>\n",
       "      <th>2</th>\n",
       "      <td>34.0</td>\n",
       "      <td>NaN</td>\n",
       "      <td>1.50</td>\n",
       "    </tr>\n",
       "    <tr>\n",
       "      <th>3</th>\n",
       "      <td>19.0</td>\n",
       "      <td>90.0</td>\n",
       "      <td>NaN</td>\n",
       "    </tr>\n",
       "    <tr>\n",
       "      <th>4</th>\n",
       "      <td>24.0</td>\n",
       "      <td>NaN</td>\n",
       "      <td>1.60</td>\n",
       "    </tr>\n",
       "    <tr>\n",
       "      <th>5</th>\n",
       "      <td>NaN</td>\n",
       "      <td>34.0</td>\n",
       "      <td>NaN</td>\n",
       "    </tr>\n",
       "    <tr>\n",
       "      <th>6</th>\n",
       "      <td>34.0</td>\n",
       "      <td>NaN</td>\n",
       "      <td>1.10</td>\n",
       "    </tr>\n",
       "    <tr>\n",
       "      <th>7</th>\n",
       "      <td>NaN</td>\n",
       "      <td>90.0</td>\n",
       "      <td>NaN</td>\n",
       "    </tr>\n",
       "    <tr>\n",
       "      <th>8</th>\n",
       "      <td>34.0</td>\n",
       "      <td>80.0</td>\n",
       "      <td>0.98</td>\n",
       "    </tr>\n",
       "    <tr>\n",
       "      <th>9</th>\n",
       "      <td>NaN</td>\n",
       "      <td>NaN</td>\n",
       "      <td>1.05</td>\n",
       "    </tr>\n",
       "    <tr>\n",
       "      <th>10</th>\n",
       "      <td>27.0</td>\n",
       "      <td>NaN</td>\n",
       "      <td>NaN</td>\n",
       "    </tr>\n",
       "    <tr>\n",
       "      <th>11</th>\n",
       "      <td>38.0</td>\n",
       "      <td>75.0</td>\n",
       "      <td>1.20</td>\n",
       "    </tr>\n",
       "  </tbody>\n",
       "</table>\n",
       "</div>"
      ],
      "text/plain": [
       "     Age  Point  Height/m\n",
       "0   23.0   23.0      1.30\n",
       "1    NaN   67.0       NaN\n",
       "2   34.0    NaN      1.50\n",
       "3   19.0   90.0       NaN\n",
       "4   24.0    NaN      1.60\n",
       "5    NaN   34.0       NaN\n",
       "6   34.0    NaN      1.10\n",
       "7    NaN   90.0       NaN\n",
       "8   34.0   80.0      0.98\n",
       "9    NaN    NaN      1.05\n",
       "10  27.0    NaN       NaN\n",
       "11  38.0   75.0      1.20"
      ]
     },
     "execution_count": 9,
     "metadata": {},
     "output_type": "execute_result"
    }
   ],
   "source": [
    "df = pd.DataFrame({\"Age\":[23,None,34,19,24,None,34,None,34,None,27,38],\"Point\":[23,67,None,90,None,34,None,90,80,None,None,75],\"Height/m\":[1.3,None,1.5,None,1.6,None,1.1,None,0.98,1.05,None,1.2]})\n",
    "df"
   ]
  },
  {
   "cell_type": "code",
   "execution_count": 21,
   "id": "4e084bf6-e7a1-4e37-b3fe-afe17b0f310f",
   "metadata": {},
   "outputs": [
    {
     "data": {
      "text/plain": [
       "Age         4\n",
       "Point       5\n",
       "Height/m    5\n",
       "dtype: int64"
      ]
     },
     "execution_count": 21,
     "metadata": {},
     "output_type": "execute_result"
    }
   ],
   "source": [
    "df.isnull().sum()"
   ]
  },
  {
   "cell_type": "code",
   "execution_count": 25,
   "id": "6cc5fa66-a6ee-4695-bf44-69f10e49aab0",
   "metadata": {},
   "outputs": [
    {
     "name": "stdout",
     "output_type": "stream",
     "text": [
      "total empty cells : 14\n",
      "dataframe shape : (12, 3)\n",
      "total cells : 36\n"
     ]
    }
   ],
   "source": [
    "print(f\"total empty cells : {df.isnull().sum().sum()}\")\n",
    "print(f\"dataframe shape : {df.shape}\")\n",
    "print(f\"total cells : {np.product(df.shape)}\")"
   ]
  },
  {
   "cell_type": "code",
   "execution_count": 28,
   "id": "359ce94b-b80a-4a03-8b10-7e9824523a5a",
   "metadata": {},
   "outputs": [
    {
     "data": {
      "text/plain": [
       "38.88888888888889"
      ]
     },
     "execution_count": 28,
     "metadata": {},
     "output_type": "execute_result"
    }
   ],
   "source": [
    "# calculating the percentage of empty cells, in a DataFrame\n",
    "\n",
    "totalCells = np.product(df.shape)\n",
    "totalEmptyCells = df.isnull().sum().sum()\n",
    "percentage_of_empty_cells = (totalEmptyCells/totalCells) * 100\n",
    "\n",
    "percentage_of_empty_cells\n"
   ]
  },
  {
   "cell_type": "code",
   "execution_count": null,
   "id": "64c578f5-36eb-4213-bfa7-a3fd25212d14",
   "metadata": {},
   "outputs": [],
   "source": []
  }
 ],
 "metadata": {
  "kernelspec": {
   "display_name": "Python 3 (ipykernel)",
   "language": "python",
   "name": "python3"
  },
  "language_info": {
   "codemirror_mode": {
    "name": "ipython",
    "version": 3
   },
   "file_extension": ".py",
   "mimetype": "text/x-python",
   "name": "python",
   "nbconvert_exporter": "python",
   "pygments_lexer": "ipython3",
   "version": "3.8.10"
  }
 },
 "nbformat": 4,
 "nbformat_minor": 5
}
